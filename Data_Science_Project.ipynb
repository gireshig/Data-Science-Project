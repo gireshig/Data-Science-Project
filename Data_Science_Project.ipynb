{
  "nbformat": 4,
  "nbformat_minor": 0,
  "metadata": {
    "colab": {
      "name": "Data Science Project.ipynb",
      "provenance": [],
      "collapsed_sections": []
    },
    "kernelspec": {
      "name": "python3",
      "display_name": "Python 3"
    }
  },
  "cells": [
    {
      "cell_type": "markdown",
      "metadata": {
        "id": "toWLw8nIhfjB"
      },
      "source": [
        "**TELECOMMUNICATION CUSTOMER CHURNING REPORT**"
      ]
    },
    {
      "cell_type": "code",
      "metadata": {
        "id": "qPvxnOBZ0DP9"
      },
      "source": [
        "# Loading the library\n",
        "import pandas as pd\n"
      ],
      "execution_count": null,
      "outputs": []
    },
    {
      "cell_type": "code",
      "metadata": {
        "id": "JlWpBozzbHdN"
      },
      "source": [
        "# Loading matplotlib and seaborn libraries and selecting the style\n",
        "import matplotlib.pyplot as plt\n",
        "import seaborn as sns\n",
        "import matplotlib.style as mplstyle\n",
        "mplstyle.use(['bmh','fast','seaborn-dark-palette'])\n",
        "sns.set_palette(\"Set2\")"
      ],
      "execution_count": null,
      "outputs": []
    },
    {
      "cell_type": "code",
      "metadata": {
        "id": "ZiZMX4v_7ykM"
      },
      "source": [
        "# Loading math functions\n",
        "import statistics"
      ],
      "execution_count": null,
      "outputs": []
    },
    {
      "cell_type": "code",
      "metadata": {
        "id": "W29RwZYy0Ro9"
      },
      "source": [
        "# Loading the data\n",
        "df = pd.read_csv(\"Telco_Customer_Churn.csv\")"
      ],
      "execution_count": null,
      "outputs": []
    },
    {
      "cell_type": "code",
      "metadata": {
        "id": "7Ug0_5Mun0fn",
        "outputId": "8a619be8-bfa3-4fe1-a131-28c2dd53d108",
        "colab": {
          "base_uri": "https://localhost:8080/"
        }
      },
      "source": [
        "# Overview of the data\n",
        "df.info()"
      ],
      "execution_count": null,
      "outputs": [
        {
          "output_type": "stream",
          "text": [
            "<class 'pandas.core.frame.DataFrame'>\n",
            "RangeIndex: 7043 entries, 0 to 7042\n",
            "Data columns (total 21 columns):\n",
            " #   Column            Non-Null Count  Dtype  \n",
            "---  ------            --------------  -----  \n",
            " 0   CustomerID        7043 non-null   object \n",
            " 1   Gender            7043 non-null   object \n",
            " 2   SeniorCitizen     7043 non-null   int64  \n",
            " 3   Partner           7043 non-null   object \n",
            " 4   Dependents        7043 non-null   object \n",
            " 5   Tenure            7043 non-null   int64  \n",
            " 6   PhoneService      7043 non-null   object \n",
            " 7   MultipleLines     7043 non-null   object \n",
            " 8   InternetService   7043 non-null   object \n",
            " 9   OnlineSecurity    7043 non-null   object \n",
            " 10  OnlineBackup      7043 non-null   object \n",
            " 11  DeviceProtection  7043 non-null   object \n",
            " 12  TechSupport       7043 non-null   object \n",
            " 13  StreamingTV       7043 non-null   object \n",
            " 14  StreamingMovies   7043 non-null   object \n",
            " 15  Contract          7043 non-null   object \n",
            " 16  PaperlessBilling  7043 non-null   object \n",
            " 17  PaymentMethod     7043 non-null   object \n",
            " 18  MonthlyCharges    7043 non-null   float64\n",
            " 19  TotalCharges      7043 non-null   object \n",
            " 20  Churn             7043 non-null   object \n",
            "dtypes: float64(1), int64(2), object(18)\n",
            "memory usage: 1.1+ MB\n"
          ],
          "name": "stdout"
        }
      ]
    },
    {
      "cell_type": "markdown",
      "metadata": {
        "id": "1cMjabHs7KHH"
      },
      "source": [
        "***Getting preview of the datasheet***"
      ]
    },
    {
      "cell_type": "code",
      "metadata": {
        "id": "TfOAoSgo3W-y",
        "outputId": "040088c9-1040-4a7d-d102-8bc61acdda87",
        "colab": {
          "base_uri": "https://localhost:8080/",
          "height": 309
        }
      },
      "source": [
        "df.head(5)"
      ],
      "execution_count": null,
      "outputs": [
        {
          "output_type": "execute_result",
          "data": {
            "text/html": [
              "<div>\n",
              "<style scoped>\n",
              "    .dataframe tbody tr th:only-of-type {\n",
              "        vertical-align: middle;\n",
              "    }\n",
              "\n",
              "    .dataframe tbody tr th {\n",
              "        vertical-align: top;\n",
              "    }\n",
              "\n",
              "    .dataframe thead th {\n",
              "        text-align: right;\n",
              "    }\n",
              "</style>\n",
              "<table border=\"1\" class=\"dataframe\">\n",
              "  <thead>\n",
              "    <tr style=\"text-align: right;\">\n",
              "      <th></th>\n",
              "      <th>CustomerID</th>\n",
              "      <th>Gender</th>\n",
              "      <th>SeniorCitizen</th>\n",
              "      <th>Partner</th>\n",
              "      <th>Dependents</th>\n",
              "      <th>Tenure</th>\n",
              "      <th>PhoneService</th>\n",
              "      <th>MultipleLines</th>\n",
              "      <th>InternetService</th>\n",
              "      <th>OnlineSecurity</th>\n",
              "      <th>OnlineBackup</th>\n",
              "      <th>DeviceProtection</th>\n",
              "      <th>TechSupport</th>\n",
              "      <th>StreamingTV</th>\n",
              "      <th>StreamingMovies</th>\n",
              "      <th>Contract</th>\n",
              "      <th>PaperlessBilling</th>\n",
              "      <th>PaymentMethod</th>\n",
              "      <th>MonthlyCharges</th>\n",
              "      <th>TotalCharges</th>\n",
              "      <th>Churn</th>\n",
              "    </tr>\n",
              "  </thead>\n",
              "  <tbody>\n",
              "    <tr>\n",
              "      <th>0</th>\n",
              "      <td>7590-VHVEG</td>\n",
              "      <td>Female</td>\n",
              "      <td>0</td>\n",
              "      <td>Yes</td>\n",
              "      <td>No</td>\n",
              "      <td>1</td>\n",
              "      <td>No</td>\n",
              "      <td>No phone service</td>\n",
              "      <td>DSL</td>\n",
              "      <td>No</td>\n",
              "      <td>Yes</td>\n",
              "      <td>No</td>\n",
              "      <td>No</td>\n",
              "      <td>No</td>\n",
              "      <td>No</td>\n",
              "      <td>Month-to-month</td>\n",
              "      <td>Yes</td>\n",
              "      <td>Electronic check</td>\n",
              "      <td>29.85</td>\n",
              "      <td>29.85</td>\n",
              "      <td>No</td>\n",
              "    </tr>\n",
              "    <tr>\n",
              "      <th>1</th>\n",
              "      <td>5575-GNVDE</td>\n",
              "      <td>Male</td>\n",
              "      <td>0</td>\n",
              "      <td>No</td>\n",
              "      <td>No</td>\n",
              "      <td>34</td>\n",
              "      <td>Yes</td>\n",
              "      <td>No</td>\n",
              "      <td>DSL</td>\n",
              "      <td>Yes</td>\n",
              "      <td>No</td>\n",
              "      <td>Yes</td>\n",
              "      <td>No</td>\n",
              "      <td>No</td>\n",
              "      <td>No</td>\n",
              "      <td>One year</td>\n",
              "      <td>No</td>\n",
              "      <td>Mailed check</td>\n",
              "      <td>56.95</td>\n",
              "      <td>1889.5</td>\n",
              "      <td>No</td>\n",
              "    </tr>\n",
              "    <tr>\n",
              "      <th>2</th>\n",
              "      <td>3668-QPYBK</td>\n",
              "      <td>Male</td>\n",
              "      <td>0</td>\n",
              "      <td>No</td>\n",
              "      <td>No</td>\n",
              "      <td>2</td>\n",
              "      <td>Yes</td>\n",
              "      <td>No</td>\n",
              "      <td>DSL</td>\n",
              "      <td>Yes</td>\n",
              "      <td>Yes</td>\n",
              "      <td>No</td>\n",
              "      <td>No</td>\n",
              "      <td>No</td>\n",
              "      <td>No</td>\n",
              "      <td>Month-to-month</td>\n",
              "      <td>Yes</td>\n",
              "      <td>Mailed check</td>\n",
              "      <td>53.85</td>\n",
              "      <td>108.15</td>\n",
              "      <td>Yes</td>\n",
              "    </tr>\n",
              "    <tr>\n",
              "      <th>3</th>\n",
              "      <td>7795-CFOCW</td>\n",
              "      <td>Male</td>\n",
              "      <td>0</td>\n",
              "      <td>No</td>\n",
              "      <td>No</td>\n",
              "      <td>45</td>\n",
              "      <td>No</td>\n",
              "      <td>No phone service</td>\n",
              "      <td>DSL</td>\n",
              "      <td>Yes</td>\n",
              "      <td>No</td>\n",
              "      <td>Yes</td>\n",
              "      <td>Yes</td>\n",
              "      <td>No</td>\n",
              "      <td>No</td>\n",
              "      <td>One year</td>\n",
              "      <td>No</td>\n",
              "      <td>Bank transfer (automatic)</td>\n",
              "      <td>42.30</td>\n",
              "      <td>1840.75</td>\n",
              "      <td>No</td>\n",
              "    </tr>\n",
              "    <tr>\n",
              "      <th>4</th>\n",
              "      <td>9237-HQITU</td>\n",
              "      <td>Female</td>\n",
              "      <td>0</td>\n",
              "      <td>No</td>\n",
              "      <td>No</td>\n",
              "      <td>2</td>\n",
              "      <td>Yes</td>\n",
              "      <td>No</td>\n",
              "      <td>Fiber optic</td>\n",
              "      <td>No</td>\n",
              "      <td>No</td>\n",
              "      <td>No</td>\n",
              "      <td>No</td>\n",
              "      <td>No</td>\n",
              "      <td>No</td>\n",
              "      <td>Month-to-month</td>\n",
              "      <td>Yes</td>\n",
              "      <td>Electronic check</td>\n",
              "      <td>70.70</td>\n",
              "      <td>151.65</td>\n",
              "      <td>Yes</td>\n",
              "    </tr>\n",
              "  </tbody>\n",
              "</table>\n",
              "</div>"
            ],
            "text/plain": [
              "   CustomerID  Gender  SeniorCitizen  ... MonthlyCharges TotalCharges  Churn\n",
              "0  7590-VHVEG  Female              0  ...          29.85        29.85     No\n",
              "1  5575-GNVDE    Male              0  ...          56.95       1889.5     No\n",
              "2  3668-QPYBK    Male              0  ...          53.85       108.15    Yes\n",
              "3  7795-CFOCW    Male              0  ...          42.30      1840.75     No\n",
              "4  9237-HQITU  Female              0  ...          70.70       151.65    Yes\n",
              "\n",
              "[5 rows x 21 columns]"
            ]
          },
          "metadata": {
            "tags": []
          },
          "execution_count": 7
        }
      ]
    },
    {
      "cell_type": "markdown",
      "metadata": {
        "id": "frm-_2_NQRV6"
      },
      "source": [
        "***Some statistical values of given data***"
      ]
    },
    {
      "cell_type": "code",
      "metadata": {
        "id": "hFlWRCVdQCRv",
        "outputId": "af6216e5-3fb8-4bbc-91e7-2eb11f9a0919",
        "colab": {
          "base_uri": "https://localhost:8080/",
          "height": 297
        }
      },
      "source": [
        "df.describe()"
      ],
      "execution_count": null,
      "outputs": [
        {
          "output_type": "execute_result",
          "data": {
            "text/html": [
              "<div>\n",
              "<style scoped>\n",
              "    .dataframe tbody tr th:only-of-type {\n",
              "        vertical-align: middle;\n",
              "    }\n",
              "\n",
              "    .dataframe tbody tr th {\n",
              "        vertical-align: top;\n",
              "    }\n",
              "\n",
              "    .dataframe thead th {\n",
              "        text-align: right;\n",
              "    }\n",
              "</style>\n",
              "<table border=\"1\" class=\"dataframe\">\n",
              "  <thead>\n",
              "    <tr style=\"text-align: right;\">\n",
              "      <th></th>\n",
              "      <th>SeniorCitizen</th>\n",
              "      <th>Tenure</th>\n",
              "      <th>MonthlyCharges</th>\n",
              "    </tr>\n",
              "  </thead>\n",
              "  <tbody>\n",
              "    <tr>\n",
              "      <th>count</th>\n",
              "      <td>7043.000000</td>\n",
              "      <td>7043.000000</td>\n",
              "      <td>7043.000000</td>\n",
              "    </tr>\n",
              "    <tr>\n",
              "      <th>mean</th>\n",
              "      <td>0.162147</td>\n",
              "      <td>32.371149</td>\n",
              "      <td>64.761692</td>\n",
              "    </tr>\n",
              "    <tr>\n",
              "      <th>std</th>\n",
              "      <td>0.368612</td>\n",
              "      <td>24.559481</td>\n",
              "      <td>30.090047</td>\n",
              "    </tr>\n",
              "    <tr>\n",
              "      <th>min</th>\n",
              "      <td>0.000000</td>\n",
              "      <td>0.000000</td>\n",
              "      <td>18.250000</td>\n",
              "    </tr>\n",
              "    <tr>\n",
              "      <th>25%</th>\n",
              "      <td>0.000000</td>\n",
              "      <td>9.000000</td>\n",
              "      <td>35.500000</td>\n",
              "    </tr>\n",
              "    <tr>\n",
              "      <th>50%</th>\n",
              "      <td>0.000000</td>\n",
              "      <td>29.000000</td>\n",
              "      <td>70.350000</td>\n",
              "    </tr>\n",
              "    <tr>\n",
              "      <th>75%</th>\n",
              "      <td>0.000000</td>\n",
              "      <td>55.000000</td>\n",
              "      <td>89.850000</td>\n",
              "    </tr>\n",
              "    <tr>\n",
              "      <th>max</th>\n",
              "      <td>1.000000</td>\n",
              "      <td>72.000000</td>\n",
              "      <td>118.750000</td>\n",
              "    </tr>\n",
              "  </tbody>\n",
              "</table>\n",
              "</div>"
            ],
            "text/plain": [
              "       SeniorCitizen       Tenure  MonthlyCharges\n",
              "count    7043.000000  7043.000000     7043.000000\n",
              "mean        0.162147    32.371149       64.761692\n",
              "std         0.368612    24.559481       30.090047\n",
              "min         0.000000     0.000000       18.250000\n",
              "25%         0.000000     9.000000       35.500000\n",
              "50%         0.000000    29.000000       70.350000\n",
              "75%         0.000000    55.000000       89.850000\n",
              "max         1.000000    72.000000      118.750000"
            ]
          },
          "metadata": {
            "tags": []
          },
          "execution_count": 22
        }
      ]
    },
    {
      "cell_type": "markdown",
      "metadata": {
        "id": "IT3qlKyfKOn3"
      },
      "source": [
        "***Comparison of Male and Female customers churning***"
      ]
    },
    {
      "cell_type": "code",
      "metadata": {
        "id": "FtWlZaAh3anV",
        "outputId": "b2dece43-373a-4d26-f11b-e5284cdcd04c",
        "colab": {
          "base_uri": "https://localhost:8080/"
        }
      },
      "source": [
        "# Ratio of Male and Female \n",
        "df['Gender'].value_counts()"
      ],
      "execution_count": null,
      "outputs": [
        {
          "output_type": "execute_result",
          "data": {
            "text/plain": [
              "Male      3555\n",
              "Female    3488\n",
              "Name: Gender, dtype: int64"
            ]
          },
          "metadata": {
            "tags": []
          },
          "execution_count": 10
        }
      ]
    },
    {
      "cell_type": "code",
      "metadata": {
        "id": "fiM6zWfU5PXL",
        "outputId": "4e4ad0be-2c20-4cfd-bb7d-9445ef526795",
        "colab": {
          "base_uri": "https://localhost:8080/"
        }
      },
      "source": [
        "# Number of males who churned out of the company\n",
        "df[(df['Gender'] == \"Male\") &\n",
        "   (df['Churn'] == 'Yes')].shape"
      ],
      "execution_count": null,
      "outputs": [
        {
          "output_type": "execute_result",
          "data": {
            "text/plain": [
              "(930, 21)"
            ]
          },
          "metadata": {
            "tags": []
          },
          "execution_count": 8
        }
      ]
    },
    {
      "cell_type": "code",
      "metadata": {
        "id": "g5qmv7m55t2O",
        "outputId": "0a5b9919-72fc-48d2-e170-368bbec154cd",
        "colab": {
          "base_uri": "https://localhost:8080/"
        }
      },
      "source": [
        "# Number of females who churned out of the company\n",
        "df[(df['Gender'] == \"Female\") &\n",
        "   (df['Churn'] == 'Yes')].shape"
      ],
      "execution_count": null,
      "outputs": [
        {
          "output_type": "execute_result",
          "data": {
            "text/plain": [
              "(939, 21)"
            ]
          },
          "metadata": {
            "tags": []
          },
          "execution_count": 9
        }
      ]
    },
    {
      "cell_type": "markdown",
      "metadata": {
        "id": "In1v3n2R7RXY"
      },
      "source": [
        "*Although the number of male customers are more than that of the female customers, it can be seen that more female customers have been churned out compared to male.*"
      ]
    },
    {
      "cell_type": "markdown",
      "metadata": {
        "id": "SdQ0825ZKznT"
      },
      "source": [
        "***Churning of senior citizens***"
      ]
    },
    {
      "cell_type": "code",
      "metadata": {
        "id": "nCvP74J_7o3V",
        "outputId": "9a887fbb-6aed-479b-9c6c-041ef782f3cb",
        "colab": {
          "base_uri": "https://localhost:8080/"
        }
      },
      "source": [
        "# Finding the number of senior citizens\n",
        "# 0 = Not Senior citizen\n",
        "# 1 = Senior citizen\n",
        "df['SeniorCitizen'].value_counts()"
      ],
      "execution_count": null,
      "outputs": [
        {
          "output_type": "execute_result",
          "data": {
            "text/plain": [
              "0    5901\n",
              "1    1142\n",
              "Name: SeniorCitizen, dtype: int64"
            ]
          },
          "metadata": {
            "tags": []
          },
          "execution_count": 10
        }
      ]
    },
    {
      "cell_type": "code",
      "metadata": {
        "id": "QJeRVk2L9ABq",
        "outputId": "df35a136-4191-4aa6-8336-42a267a50fd4",
        "colab": {
          "base_uri": "https://localhost:8080/"
        }
      },
      "source": [
        "# Finding the percentage of senior citizens\n",
        "a = 5901\n",
        "b = 1142\n",
        "c = (b/(a+b)*100)\n",
        "print(\"The percentage of senior citizens : \",round(c,2))"
      ],
      "execution_count": null,
      "outputs": [
        {
          "output_type": "stream",
          "text": [
            "The percentage of senior citizens :  16.21\n"
          ],
          "name": "stdout"
        }
      ]
    },
    {
      "cell_type": "code",
      "metadata": {
        "id": "fQrv5fN1LVza",
        "outputId": "62512d56-74db-454e-d4c8-1480e85a4a0a",
        "colab": {
          "base_uri": "https://localhost:8080/"
        }
      },
      "source": [
        "df[(df['SeniorCitizen'] == 1) & (df['Churn'] == 'Yes')].shape"
      ],
      "execution_count": null,
      "outputs": [
        {
          "output_type": "execute_result",
          "data": {
            "text/plain": [
              "(476, 21)"
            ]
          },
          "metadata": {
            "tags": []
          },
          "execution_count": 68
        }
      ]
    },
    {
      "cell_type": "code",
      "metadata": {
        "id": "qCuo9ojcLjw_",
        "outputId": "73f77ef6-a9d1-43c4-eb01-98ddf2762ad2",
        "colab": {
          "base_uri": "https://localhost:8080/"
        }
      },
      "source": [
        "# Calculating the percentage of the senior citizens Churning\n",
        "c=(476/1142)*100\n",
        "print(\"The percentage of senior citizens churning : \",round(c,2))"
      ],
      "execution_count": null,
      "outputs": [
        {
          "output_type": "stream",
          "text": [
            "The percentage of senior citizens churning :  41.68\n"
          ],
          "name": "stdout"
        }
      ]
    },
    {
      "cell_type": "code",
      "metadata": {
        "id": "AQR3SIAiL_vp",
        "outputId": "f9af7f84-58ed-492b-dee9-4792cb5ee8eb",
        "colab": {
          "base_uri": "https://localhost:8080/"
        }
      },
      "source": [
        "df[(df['SeniorCitizen'] == 0) & (df['Churn'] == 'Yes')].shape"
      ],
      "execution_count": null,
      "outputs": [
        {
          "output_type": "execute_result",
          "data": {
            "text/plain": [
              "(1393, 21)"
            ]
          },
          "metadata": {
            "tags": []
          },
          "execution_count": 67
        }
      ]
    },
    {
      "cell_type": "code",
      "metadata": {
        "id": "qykIN_YIMDXV",
        "outputId": "6e0d27cf-093d-44d8-e979-26db9ddd1f46",
        "colab": {
          "base_uri": "https://localhost:8080/"
        }
      },
      "source": [
        "# Calculating the percentage of the non-senior citizens Churning\n",
        "c=(1393/5901)*100\n",
        "print(\"The percentage of non-senior citizens churning : \",round(c,2))"
      ],
      "execution_count": null,
      "outputs": [
        {
          "output_type": "stream",
          "text": [
            "The percentage of non-senior citizens churning :  23.61\n"
          ],
          "name": "stdout"
        }
      ]
    },
    {
      "cell_type": "markdown",
      "metadata": {
        "id": "3B4Tg236LJuX"
      },
      "source": [
        "*It can be seen from above data that the percentage of senior citizens is significantly higher than that of non-senior citizens.*"
      ]
    },
    {
      "cell_type": "markdown",
      "metadata": {
        "id": "BOYuKjpwMxa1"
      },
      "source": [
        "***Comparison of Churning VS Services***"
      ]
    },
    {
      "cell_type": "code",
      "metadata": {
        "id": "Cl5A_f0r_e2w",
        "outputId": "c270a786-cc4e-4bc3-f3eb-b1db2384ff13",
        "colab": {
          "base_uri": "https://localhost:8080/"
        }
      },
      "source": [
        "# Number of customers who have Phone service\n",
        "df['PhoneService'].value_counts()"
      ],
      "execution_count": null,
      "outputs": [
        {
          "output_type": "execute_result",
          "data": {
            "text/plain": [
              "Yes    6361\n",
              "No      682\n",
              "Name: PhoneService, dtype: int64"
            ]
          },
          "metadata": {
            "tags": []
          },
          "execution_count": 41
        }
      ]
    },
    {
      "cell_type": "code",
      "metadata": {
        "id": "5zDlXvvUh93i",
        "outputId": "90918553-b7bc-4843-c6bd-26c5596e145d",
        "colab": {
          "base_uri": "https://localhost:8080/",
          "height": 313
        }
      },
      "source": [
        "# Graph of the customers who have Phone Service\n",
        "ax = plt.subplots()\n",
        "ax = sns.countplot(y = 'PhoneService', hue = 'Churn', data = df)\n",
        "ax.set_title('PHONE SERVICE')\n",
        "ax.set_xlabel('Number of customers')"
      ],
      "execution_count": null,
      "outputs": [
        {
          "output_type": "execute_result",
          "data": {
            "text/plain": [
              "Text(0.5, 0, 'Number of customers')"
            ]
          },
          "metadata": {
            "tags": []
          },
          "execution_count": 79
        },
        {
          "output_type": "display_data",
          "data": {
            "image/png": "[encoded data removed]",
            "text/plain": [
              "<Figure size 432x288 with 1 Axes>"
            ]
          },
          "metadata": {
            "tags": [],
            "needs_background": "light"
          }
        }
      ]
    },
    {
      "cell_type": "code",
      "metadata": {
        "id": "K7Zs7Fnceq16",
        "outputId": "31fc9d47-64a0-4ba9-f875-3e445c55c7f6",
        "colab": {
          "base_uri": "https://localhost:8080/"
        }
      },
      "source": [
        "# Number of customers who have Multiple Lines\n",
        "df['MultipleLines'].value_counts()"
      ],
      "execution_count": null,
      "outputs": [
        {
          "output_type": "execute_result",
          "data": {
            "text/plain": [
              "No                  3390\n",
              "Yes                 2971\n",
              "No phone service     682\n",
              "Name: MultipleLines, dtype: int64"
            ]
          },
          "metadata": {
            "tags": []
          },
          "execution_count": 39
        }
      ]
    },
    {
      "cell_type": "code",
      "metadata": {
        "id": "FrV4bIknkRhE",
        "outputId": "447cca70-275d-45ce-be35-64516da99e60",
        "colab": {
          "base_uri": "https://localhost:8080/",
          "height": 313
        }
      },
      "source": [
        "# Graph of the customers who have Multiple Lines\n",
        "ax = plt.subplots()\n",
        "sns.set_palette(\"Paired\")\n",
        "ax = sns.countplot(y = 'MultipleLines',hue = 'Churn', data = df)\n",
        "ax.set_title('MULTIPLE LINES')\n",
        "ax.set_xlabel('Number of customers')"
      ],
      "execution_count": null,
      "outputs": [
        {
          "output_type": "execute_result",
          "data": {
            "text/plain": [
              "Text(0.5, 0, 'Number of customers')"
            ]
          },
          "metadata": {
            "tags": []
          },
          "execution_count": 83
        },
        {
          "output_type": "display_data",
          "data": {
            "image/png": "[encoded data removed]",
            "text/plain": [
              "<Figure size 432x288 with 1 Axes>"
            ]
          },
          "metadata": {
            "tags": [],
            "needs_background": "light"
          }
        }
      ]
    },
    {
      "cell_type": "code",
      "metadata": {
        "id": "hvhL6nkQe1go",
        "outputId": "386e73b0-5b5c-443b-d7a7-f0200377f169",
        "colab": {
          "base_uri": "https://localhost:8080/"
        }
      },
      "source": [
        "# Number of customers who have Internet Sevice\n",
        "df['InternetService'].value_counts()"
      ],
      "execution_count": null,
      "outputs": [
        {
          "output_type": "execute_result",
          "data": {
            "text/plain": [
              "Fiber optic    3096\n",
              "DSL            2421\n",
              "No             1526\n",
              "Name: InternetService, dtype: int64"
            ]
          },
          "metadata": {
            "tags": []
          },
          "execution_count": 37
        }
      ]
    },
    {
      "cell_type": "code",
      "metadata": {
        "id": "nhXss0WWkjMa",
        "outputId": "4e57a600-7f2d-4123-8bf0-6c886cc88fac",
        "colab": {
          "base_uri": "https://localhost:8080/",
          "height": 313
        }
      },
      "source": [
        "# Graph of the customers who have Internet Service\n",
        "ax = plt.subplots()\n",
        "sns.set_palette(\"magma\")\n",
        "ax = sns.countplot(y = 'InternetService',hue = 'Churn', data = df)\n",
        "ax.set_title('INTERNET SERVICE')\n",
        "ax.set_xlabel('Number of customers')"
      ],
      "execution_count": null,
      "outputs": [
        {
          "output_type": "execute_result",
          "data": {
            "text/plain": [
              "Text(0.5, 0, 'Number of customers')"
            ]
          },
          "metadata": {
            "tags": []
          },
          "execution_count": 93
        },
        {
          "output_type": "display_data",
          "data": {
            "image/png": "[encoded data removed]",
            "text/plain": [
              "<Figure size 432x288 with 1 Axes>"
            ]
          },
          "metadata": {
            "tags": [],
            "needs_background": "light"
          }
        }
      ]
    },
    {
      "cell_type": "code",
      "metadata": {
        "id": "-MEpxaUu_69M",
        "outputId": "74828b48-3029-4134-91ce-e10e3bf408c7",
        "colab": {
          "base_uri": "https://localhost:8080/"
        }
      },
      "source": [
        "# Number of customers who have Online Security\n",
        "df['OnlineSecurity'].value_counts()"
      ],
      "execution_count": null,
      "outputs": [
        {
          "output_type": "execute_result",
          "data": {
            "text/plain": [
              "No                     3498\n",
              "Yes                    2019\n",
              "No internet service    1526\n",
              "Name: OnlineSecurity, dtype: int64"
            ]
          },
          "metadata": {
            "tags": []
          },
          "execution_count": 35
        }
      ]
    },
    {
      "cell_type": "code",
      "metadata": {
        "id": "kHh5BCM9k8Ep",
        "outputId": "f869edc2-f5f1-4030-9997-3536567129aa",
        "colab": {
          "base_uri": "https://localhost:8080/",
          "height": 313
        }
      },
      "source": [
        "# Graph of the customers who have Online Security\n",
        "ax = plt.subplots()\n",
        "sns.set_palette(\"Set1\")\n",
        "ax = sns.countplot(y = 'OnlineSecurity',hue = 'Churn', data = df)\n",
        "ax.set_title('ONLINE SECURITY')\n",
        "ax.set_xlabel('Number of Customers')"
      ],
      "execution_count": null,
      "outputs": [
        {
          "output_type": "execute_result",
          "data": {
            "text/plain": [
              "Text(0.5, 0, 'Number of Customers')"
            ]
          },
          "metadata": {
            "tags": []
          },
          "execution_count": 86
        },
        {
          "output_type": "display_data",
          "data": {
            "image/png": "[encoded data removed]",
            "text/plain": [
              "<Figure size 432x288 with 1 Axes>"
            ]
          },
          "metadata": {
            "tags": [],
            "needs_background": "light"
          }
        }
      ]
    },
    {
      "cell_type": "code",
      "metadata": {
        "id": "jnsxxHNqAIXH",
        "outputId": "10415d82-51e2-45f7-a102-f758949fa48f",
        "colab": {
          "base_uri": "https://localhost:8080/"
        }
      },
      "source": [
        "# Number of customers who have Online Backup\n",
        "df['OnlineBackup'].value_counts()"
      ],
      "execution_count": null,
      "outputs": [
        {
          "output_type": "execute_result",
          "data": {
            "text/plain": [
              "No                     3088\n",
              "Yes                    2429\n",
              "No internet service    1526\n",
              "Name: OnlineBackup, dtype: int64"
            ]
          },
          "metadata": {
            "tags": []
          },
          "execution_count": 33
        }
      ]
    },
    {
      "cell_type": "code",
      "metadata": {
        "id": "fs2ZLBLel9OW",
        "outputId": "99bbeb7a-5912-46ae-ee08-69d7f8a92952",
        "colab": {
          "base_uri": "https://localhost:8080/",
          "height": 313
        }
      },
      "source": [
        "# Graph of the customers who have Online Backup\n",
        "ax = plt.subplots()\n",
        "sns.set_palette(\"rocket\")\n",
        "ax = sns.countplot(y = 'OnlineBackup',hue = 'Churn', data = df)\n",
        "ax.set_title('ONLINE Backup')\n",
        "ax.set_xlabel('Number of people')"
      ],
      "execution_count": null,
      "outputs": [
        {
          "output_type": "execute_result",
          "data": {
            "text/plain": [
              "Text(0.5, 0, 'Number of people')"
            ]
          },
          "metadata": {
            "tags": []
          },
          "execution_count": 87
        },
        {
          "output_type": "display_data",
          "data": {
            "image/png": "[encoded data removed]",
            "text/plain": [
              "<Figure size 432x288 with 1 Axes>"
            ]
          },
          "metadata": {
            "tags": [],
            "needs_background": "light"
          }
        }
      ]
    },
    {
      "cell_type": "code",
      "metadata": {
        "id": "3f9SYy-fAW9a",
        "outputId": "56bb50ea-1f76-42e4-edb5-799c898e7b4c",
        "colab": {
          "base_uri": "https://localhost:8080/"
        }
      },
      "source": [
        "# Number of customers who have Device Protection\n",
        "df['DeviceProtection'].value_counts()"
      ],
      "execution_count": null,
      "outputs": [
        {
          "output_type": "execute_result",
          "data": {
            "text/plain": [
              "No                     3095\n",
              "Yes                    2422\n",
              "No internet service    1526\n",
              "Name: DeviceProtection, dtype: int64"
            ]
          },
          "metadata": {
            "tags": []
          },
          "execution_count": 31
        }
      ]
    },
    {
      "cell_type": "code",
      "metadata": {
        "id": "FFA2YjfcmE-n",
        "outputId": "e3877e58-2211-4038-eddb-eb7742edfcb9",
        "colab": {
          "base_uri": "https://localhost:8080/",
          "height": 313
        }
      },
      "source": [
        "# Graph of the customers who have Device Protection\n",
        "ax = plt.subplots()\n",
        "sns.set_palette(\"crest\")\n",
        "ax = sns.countplot(y = 'DeviceProtection',hue = 'Churn', data = df)\n",
        "ax.set_title('DEVICE PROTECTION')\n",
        "ax.set_xlabel('Number of customers')"
      ],
      "execution_count": null,
      "outputs": [
        {
          "output_type": "execute_result",
          "data": {
            "text/plain": [
              "Text(0.5, 0, 'Number of customers')"
            ]
          },
          "metadata": {
            "tags": []
          },
          "execution_count": 88
        },
        {
          "output_type": "display_data",
          "data": {
            "image/png": "[encoded data removed]",
            "text/plain": [
              "<Figure size 432x288 with 1 Axes>"
            ]
          },
          "metadata": {
            "tags": [],
            "needs_background": "light"
          }
        }
      ]
    },
    {
      "cell_type": "code",
      "metadata": {
        "id": "1fzo_bFtAfAG",
        "outputId": "20650379-963d-482b-e6cd-f9f8b4b2dde8",
        "colab": {
          "base_uri": "https://localhost:8080/"
        }
      },
      "source": [
        "# Number of customers who have Tech Support\n",
        "df['TechSupport'].value_counts()"
      ],
      "execution_count": null,
      "outputs": [
        {
          "output_type": "execute_result",
          "data": {
            "text/plain": [
              "No                     3473\n",
              "Yes                    2044\n",
              "No internet service    1526\n",
              "Name: TechSupport, dtype: int64"
            ]
          },
          "metadata": {
            "tags": []
          },
          "execution_count": 29
        }
      ]
    },
    {
      "cell_type": "code",
      "metadata": {
        "id": "ohASrAwgmQC3",
        "outputId": "866feff0-4ca3-4326-d33e-c1b7f4854b7b",
        "colab": {
          "base_uri": "https://localhost:8080/",
          "height": 313
        }
      },
      "source": [
        "# Graph of the customers who have Tech Support\n",
        "ax = plt.subplots()\n",
        "sns.set_palette(\"Set3\")\n",
        "ax = sns.countplot(y = 'TechSupport',hue = 'Churn', data = df)\n",
        "ax.set_title('TECH SUPPORT')\n",
        "ax.set_xlabel('Number of customers')"
      ],
      "execution_count": null,
      "outputs": [
        {
          "output_type": "execute_result",
          "data": {
            "text/plain": [
              "Text(0.5, 0, 'Number of customers')"
            ]
          },
          "metadata": {
            "tags": []
          },
          "execution_count": 94
        },
        {
          "output_type": "display_data",
          "data": {
            "image/png": "[encoded data removed]",
            "text/plain": [
              "<Figure size 432x288 with 1 Axes>"
            ]
          },
          "metadata": {
            "tags": [],
            "needs_background": "light"
          }
        }
      ]
    },
    {
      "cell_type": "code",
      "metadata": {
        "id": "W-ziXZ-3AnJ7",
        "outputId": "fd50cb1d-706b-4550-9876-c4c1acae1bb6",
        "colab": {
          "base_uri": "https://localhost:8080/"
        }
      },
      "source": [
        "# Number of customers who use TV Streaming\n",
        "df['StreamingTV'].value_counts()"
      ],
      "execution_count": null,
      "outputs": [
        {
          "output_type": "execute_result",
          "data": {
            "text/plain": [
              "No                     2810\n",
              "Yes                    2707\n",
              "No internet service    1526\n",
              "Name: StreamingTV, dtype: int64"
            ]
          },
          "metadata": {
            "tags": []
          },
          "execution_count": 25
        }
      ]
    },
    {
      "cell_type": "code",
      "metadata": {
        "id": "Xfb1x2PomXST",
        "outputId": "ef001e1e-1109-45e3-8a16-6b6a4863153f",
        "colab": {
          "base_uri": "https://localhost:8080/",
          "height": 313
        }
      },
      "source": [
        "# Graph of the customers who use TV Streaming\n",
        "ax = plt.subplots()\n",
        "sns.set_palette(\"viridis\")\n",
        "ax = sns.countplot(y = 'StreamingTV',hue = 'Churn', data = df)\n",
        "ax.set_title('STREAMING TV')\n",
        "ax.set_xlabel('Number of customers')"
      ],
      "execution_count": null,
      "outputs": [
        {
          "output_type": "execute_result",
          "data": {
            "text/plain": [
              "Text(0.5, 0, 'Number of customers')"
            ]
          },
          "metadata": {
            "tags": []
          },
          "execution_count": 90
        },
        {
          "output_type": "display_data",
          "data": {
            "image/png": "[encoded data removed]",
            "text/plain": [
              "<Figure size 432x288 with 1 Axes>"
            ]
          },
          "metadata": {
            "tags": [],
            "needs_background": "light"
          }
        }
      ]
    },
    {
      "cell_type": "code",
      "metadata": {
        "id": "l6s4ZqexAu27",
        "outputId": "95fa8146-14c7-48b1-9c87-9d8605d2ccdb",
        "colab": {
          "base_uri": "https://localhost:8080/"
        }
      },
      "source": [
        "# Number of customers who use Movie Streaming\n",
        "df['StreamingMovies'].value_counts()"
      ],
      "execution_count": null,
      "outputs": [
        {
          "output_type": "execute_result",
          "data": {
            "text/plain": [
              "No                     2785\n",
              "Yes                    2732\n",
              "No internet service    1526\n",
              "Name: StreamingMovies, dtype: int64"
            ]
          },
          "metadata": {
            "tags": []
          },
          "execution_count": 21
        }
      ]
    },
    {
      "cell_type": "code",
      "metadata": {
        "id": "tGdHiLkImfbw",
        "outputId": "3aba2ea4-3e63-44e0-dc20-0ff370dd0fc6",
        "colab": {
          "base_uri": "https://localhost:8080/",
          "height": 313
        }
      },
      "source": [
        "# Graph of the customers who use Movie Streaming\n",
        "ax = plt.subplots()\n",
        "sns.set_palette(\"flare\")\n",
        "ax = sns.countplot(y = 'StreamingMovies',hue = 'Churn', data = df)\n",
        "ax.set_title('STREAMING MOVIES')\n",
        "ax.set_xlabel('Number of customers')"
      ],
      "execution_count": null,
      "outputs": [
        {
          "output_type": "execute_result",
          "data": {
            "text/plain": [
              "Text(0.5, 0, 'Number of customers')"
            ]
          },
          "metadata": {
            "tags": []
          },
          "execution_count": 91
        },
        {
          "output_type": "display_data",
          "data": {
            "image/png": "[encoded data removed]",
            "text/plain": [
              "<Figure size 432x288 with 1 Axes>"
            ]
          },
          "metadata": {
            "tags": [],
            "needs_background": "light"
          }
        }
      ]
    },
    {
      "cell_type": "markdown",
      "metadata": {
        "id": "dPiE0AXXOUch"
      },
      "source": [
        "***Churning Vs Payment Menthods***"
      ]
    },
    {
      "cell_type": "code",
      "metadata": {
        "id": "Oc_pmPtgGxpM",
        "outputId": "5509cf2e-fadf-4dcf-f039-23809b0d034c",
        "colab": {
          "base_uri": "https://localhost:8080/"
        }
      },
      "source": [
        "# Number of customers for each Payment Method\n",
        "df['PaymentMethod'].value_counts()"
      ],
      "execution_count": null,
      "outputs": [
        {
          "output_type": "execute_result",
          "data": {
            "text/plain": [
              "Electronic check             2365\n",
              "Mailed check                 1612\n",
              "Bank transfer (automatic)    1544\n",
              "Credit card (automatic)      1522\n",
              "Name: PaymentMethod, dtype: int64"
            ]
          },
          "metadata": {
            "tags": []
          },
          "execution_count": 61
        }
      ]
    },
    {
      "cell_type": "code",
      "metadata": {
        "id": "vWqwFdWUG51q",
        "outputId": "8a5eb76f-07d4-490f-ca54-e70c29173d22",
        "colab": {
          "base_uri": "https://localhost:8080/",
          "height": 313
        }
      },
      "source": [
        "# Graph of the customers with different Payment Method\n",
        "ax = plt.subplots()\n",
        "sns.set_palette(\"mako\")\n",
        "ax = sns.countplot(y = 'PaymentMethod',hue = 'Churn', data = df)\n",
        "ax.set_title('COMPARISON OF DIFFERENT PAYMENT METHODS')\n",
        "ax.set_xlabel('Number of customers')"
      ],
      "execution_count": null,
      "outputs": [
        {
          "output_type": "execute_result",
          "data": {
            "text/plain": [
              "Text(0.5, 0, 'Number of customers')"
            ]
          },
          "metadata": {
            "tags": []
          },
          "execution_count": 92
        },
        {
          "output_type": "display_data",
          "data": {
            "image/png": "[encoded data removed]",
            "text/plain": [
              "<Figure size 432x288 with 1 Axes>"
            ]
          },
          "metadata": {
            "tags": [],
            "needs_background": "light"
          }
        }
      ]
    },
    {
      "cell_type": "markdown",
      "metadata": {
        "id": "dXmeQm1GOoDp"
      },
      "source": [
        "*It is seen that the number of people who have not churned is nearly same for the different payment methods. However, the number of people with electronic check as their payment method show a much higher rate of churning.*"
      ]
    },
    {
      "cell_type": "markdown",
      "metadata": {
        "id": "6benqZYSPX_V"
      },
      "source": [
        "***Contract Vs Churning***"
      ]
    },
    {
      "cell_type": "code",
      "metadata": {
        "id": "91zDWTTyA2_1",
        "outputId": "3a4f4753-8e8e-4f87-8dde-1e419eb8fad4",
        "colab": {
          "base_uri": "https://localhost:8080/"
        }
      },
      "source": [
        "# Contract\n",
        "df['Contract'].value_counts()"
      ],
      "execution_count": null,
      "outputs": [
        {
          "output_type": "execute_result",
          "data": {
            "text/plain": [
              "Month-to-month    3875\n",
              "Two year          1695\n",
              "One year          1473\n",
              "Name: Contract, dtype: int64"
            ]
          },
          "metadata": {
            "tags": []
          },
          "execution_count": 22
        }
      ]
    },
    {
      "cell_type": "code",
      "metadata": {
        "id": "ITYWk04ZBCbn",
        "outputId": "fd3c9ef3-db35-4461-a752-74f54a3f10b6",
        "colab": {
          "base_uri": "https://localhost:8080/"
        }
      },
      "source": [
        "# Contracts vs churning\n",
        "df[(df['Contract'] == \"Month-to-month\") &\n",
        "   (df['Churn'] == 'Yes')].shape"
      ],
      "execution_count": null,
      "outputs": [
        {
          "output_type": "execute_result",
          "data": {
            "text/plain": [
              "(1655, 21)"
            ]
          },
          "metadata": {
            "tags": []
          },
          "execution_count": 25
        }
      ]
    },
    {
      "cell_type": "code",
      "metadata": {
        "id": "uhwEmKWQBwDa",
        "outputId": "aeb9173e-14e5-49dc-f381-08f95d6c4c76",
        "colab": {
          "base_uri": "https://localhost:8080/"
        }
      },
      "source": [
        "df[(df['Contract'] == \"One year\") & (df['Churn'] == 'Yes')].shape"
      ],
      "execution_count": null,
      "outputs": [
        {
          "output_type": "execute_result",
          "data": {
            "text/plain": [
              "(166, 21)"
            ]
          },
          "metadata": {
            "tags": []
          },
          "execution_count": 26
        }
      ]
    },
    {
      "cell_type": "code",
      "metadata": {
        "id": "Ip7coCZnByYn",
        "outputId": "b7f63a16-1d96-44ed-a92d-e61671ef7e7b",
        "colab": {
          "base_uri": "https://localhost:8080/"
        }
      },
      "source": [
        "df[(df['Contract'] == \"Two year\") & (df['Churn'] == 'Yes')].shape"
      ],
      "execution_count": null,
      "outputs": [
        {
          "output_type": "execute_result",
          "data": {
            "text/plain": [
              "(48, 21)"
            ]
          },
          "metadata": {
            "tags": []
          },
          "execution_count": 27
        }
      ]
    },
    {
      "cell_type": "code",
      "metadata": {
        "id": "x0vPzsEZB9wl",
        "outputId": "f5d1690e-ef3b-4f31-e20e-ce48c8520f17",
        "colab": {
          "base_uri": "https://localhost:8080/"
        }
      },
      "source": [
        "# Calculating COMPARISON OF CONTRACT VS CHURNING PERCENTAGE\n",
        "m = 1655 # m=number of customers with month to month contract that churned out\n",
        "mt = 3875 # mt=total number of customers with month to month contract\n",
        "o = 166 # o=number of customers with one year contract that churned out \n",
        "oy = 1473 # oy=total number of customers with one year contract\n",
        "t = 48 # t=number of customers with two year contract that churned out\n",
        "ty = 1695 # ty=total number of customers with two year contract\n",
        "mp = ((m/mt)*100) # mp=percentage of people who churned out to month to month contract  \n",
        "op = ((o/oy)*100) # op=percentage of people who churned out to one year contract\n",
        "tp = ((t/ty)*100) # tp=percentage of people who churned out to two year contract\n",
        "print(\"COMPARISON OF CONTRACT VS CHURNING PERCENTAGE\")\n",
        "print(\"Month to month : \",round(mp,2))\n",
        "print(\"One year       : \",round(op,2))\n",
        "print(\"Two year       : \",round(tp,2))\n"
      ],
      "execution_count": null,
      "outputs": [
        {
          "output_type": "stream",
          "text": [
            "COMPARISON OF CONTRACT VS CHURNING PERCENTAGE\n",
            "Month to month :  42.71\n",
            "One year       :  11.27\n",
            "Two year       :  2.83\n"
          ],
          "name": "stdout"
        }
      ]
    },
    {
      "cell_type": "code",
      "metadata": {
        "id": "j1_PsTFPaq8h",
        "outputId": "9156a0db-2c4f-4347-bae3-0c5c4067b777",
        "colab": {
          "base_uri": "https://localhost:8080/",
          "height": 313
        }
      },
      "source": [
        "# Graph of COMPARISON OF CONTRACT VS CHURNING PERCENTAGE\n",
        "ax = plt.subplots()\n",
        "ax = sns.countplot(y = 'Contract', hue='Churn', data = df)\n",
        "ax.set_title('COMPARISON OF CONTRACT VS CHURNING PERCENTAGE.')\n",
        "ax.set_xlabel('Number of customers')\n",
        "ax.set_ylabel('Contract type')"
      ],
      "execution_count": null,
      "outputs": [
        {
          "output_type": "execute_result",
          "data": {
            "text/plain": [
              "Text(0, 0.5, 'Contract type')"
            ]
          },
          "metadata": {
            "tags": []
          },
          "execution_count": 71
        },
        {
          "output_type": "display_data",
          "data": {
            "image/png": "[encoded data removed]",
            "text/plain": [
              "<Figure size 432x288 with 1 Axes>"
            ]
          },
          "metadata": {
            "tags": [],
            "needs_background": "light"
          }
        }
      ]
    },
    {
      "cell_type": "markdown",
      "metadata": {
        "id": "ix6tj1mvQmdt"
      },
      "source": [
        "***Monthly Charges***"
      ]
    },
    {
      "cell_type": "code",
      "metadata": {
        "id": "VnsbRiKW6ZUC",
        "outputId": "830bbdec-005d-407a-996a-7f00d6f9a626",
        "colab": {
          "base_uri": "https://localhost:8080/"
        }
      },
      "source": [
        "# Finding the average of Monthly Charges\n",
        "m = df['MonthlyCharges']\n",
        "average = statistics.mean(m)\n",
        "print((round(average, 2)))"
      ],
      "execution_count": null,
      "outputs": [
        {
          "output_type": "stream",
          "text": [
            "64.76\n"
          ],
          "name": "stdout"
        }
      ]
    },
    {
      "cell_type": "code",
      "metadata": {
        "id": "5Sd41eKX8X4F",
        "outputId": "95d03c51-5a62-43b4-9803-520598e6707d",
        "colab": {
          "base_uri": "https://localhost:8080/"
        }
      },
      "source": [
        "# Calculating minimun Monthly Charge\n",
        "df['MonthlyCharges'].min()"
      ],
      "execution_count": null,
      "outputs": [
        {
          "output_type": "execute_result",
          "data": {
            "text/plain": [
              "18.25"
            ]
          },
          "metadata": {
            "tags": []
          },
          "execution_count": 23
        }
      ]
    },
    {
      "cell_type": "code",
      "metadata": {
        "id": "sbma-eQbRAOE",
        "outputId": "8c888844-1ea6-4d9b-ea2b-1945c37b13e2",
        "colab": {
          "base_uri": "https://localhost:8080/"
        }
      },
      "source": [
        "# Calculating maximun Monthly Charge\n",
        "df['MonthlyCharges'].max()"
      ],
      "execution_count": null,
      "outputs": [
        {
          "output_type": "execute_result",
          "data": {
            "text/plain": [
              "118.75"
            ]
          },
          "metadata": {
            "tags": []
          },
          "execution_count": 24
        }
      ]
    },
    {
      "cell_type": "markdown",
      "metadata": {
        "id": "PexjtuHERr3H"
      },
      "source": [
        "*The average monthly charge payed by a customer is 64.76/- . It is also seen that the minimum charge payed is 18.25/-   and the maximum is 118.25/- .*"
      ]
    },
    {
      "cell_type": "code",
      "metadata": {
        "id": "Qp_nMDrj9fvW",
        "outputId": "a3967d74-5a50-4a25-884f-1e595b69bea5",
        "colab": {
          "base_uri": "https://localhost:8080/"
        }
      },
      "source": [
        "# Comparing the monthly charge to the average monthly charge payed by the customer who Churned\n",
        "df[(df['MonthlyCharges'] <= 64.76169246059918) & (df['Churn'] == 'Yes')].shape"
      ],
      "execution_count": null,
      "outputs": [
        {
          "output_type": "execute_result",
          "data": {
            "text/plain": [
              "(514, 21)"
            ]
          },
          "metadata": {
            "tags": []
          },
          "execution_count": 36
        }
      ]
    },
    {
      "cell_type": "code",
      "metadata": {
        "id": "8Bwe8bjc93Zh",
        "outputId": "3e9bd6d3-e3e8-4d0b-9947-d593b2d09993",
        "colab": {
          "base_uri": "https://localhost:8080/"
        }
      },
      "source": [
        "# Comparing the monthly charge to the average monthly charge payed by the customer who did not Churn\n",
        "df[(df['MonthlyCharges'] <= 64.76169246059918) & (df['Churn'] == 'No')].shape"
      ],
      "execution_count": null,
      "outputs": [
        {
          "output_type": "execute_result",
          "data": {
            "text/plain": [
              "(2606, 21)"
            ]
          },
          "metadata": {
            "tags": []
          },
          "execution_count": 37
        }
      ]
    },
    {
      "cell_type": "code",
      "metadata": {
        "id": "B9hY2ABj98oW",
        "outputId": "cf5c5ed5-f203-483e-9786-2c88aa0b96b7",
        "colab": {
          "base_uri": "https://localhost:8080/"
        }
      },
      "source": [
        "# Comparing the monthly charge to the average monthly charge payed by the customer who Churned\n",
        "df[(df['MonthlyCharges'] >= 64.76169246059918) & (df['Churn'] == 'Yes')].shape"
      ],
      "execution_count": null,
      "outputs": [
        {
          "output_type": "execute_result",
          "data": {
            "text/plain": [
              "(1355, 21)"
            ]
          },
          "metadata": {
            "tags": []
          },
          "execution_count": 38
        }
      ]
    },
    {
      "cell_type": "code",
      "metadata": {
        "id": "IFt_GlpG9_Ah",
        "outputId": "c12df119-63a2-4fd0-fa31-381018e56f74",
        "colab": {
          "base_uri": "https://localhost:8080/"
        }
      },
      "source": [
        "# Comparing the monthly charge to the average monthly charge payed by the customer who did not Churn\n",
        "df[(df['MonthlyCharges'] >= 64.76169246059918) & (df['Churn'] == 'No')].shape"
      ],
      "execution_count": null,
      "outputs": [
        {
          "output_type": "execute_result",
          "data": {
            "text/plain": [
              "(2568, 21)"
            ]
          },
          "metadata": {
            "tags": []
          },
          "execution_count": 39
        }
      ]
    },
    {
      "cell_type": "code",
      "metadata": {
        "id": "5Kjxp7l4-i_b",
        "outputId": "41cd093f-1542-4d19-e9a8-e2b749db76e1",
        "colab": {
          "base_uri": "https://localhost:8080/"
        }
      },
      "source": [
        "# Calculating COMPARISON OF MONTHLY CHARGES VS CHURNING PERCENTAGE\n",
        "lc = 514 # lc=number of customers with a less monthly charge that churned out\n",
        "ln = 2606 # ln=number of customers with a less monthly charge that have not churned out\n",
        "mc = 1355 # mc=number of customers with a more monthly charge that churned out \n",
        "mn = 2568 # mn=number of customers with a more monthly charge that have not churned out\n",
        "p1 = ((lc/(ln+lc))*100) # p1=percentage of people with less charge who churned out    \n",
        "p2 = ((mc/(mn+mc))*100) # p2=percentage of people with more charge who churned out\n",
        "p3 = ((ln/(ln+lc))*100) # p3=percentage of people with less charge who didn't churned out\n",
        "p4 = ((mn/(mn+mc))*100) # p4=percentage of people with more charge who didn't churned out\n",
        "print(\"COMPARISON OF MONTHLY CHARGES VS CHURNING PERCENTAGE\")\n",
        "print(\"Number of customers with a less monthly charge that churned out          : \",lc)\n",
        "print(\"Number of customers with a less monthly charge that have not churned out : \",ln)\n",
        "print(\"Number of customers with a more monthly charge that churned out          : \", mc)\n",
        "print(\"Number of customers with a more monthly charge that have not churned out : \",mn)\n",
        "print(\"Percentage of customers with less charge who churned out        : \", (round(p1, 2)))\n",
        "print(\"Percentage of customers with less charge who didn't churned out : \", (round(p3, 2)))\n",
        "print(\"Percentage of customers with more charge who churned out        : \", (round(p2, 2)))\n",
        "print(\"Percentage of customers with more charge who didn't churned out : \", (round(p4, 2)))\n"
      ],
      "execution_count": null,
      "outputs": [
        {
          "output_type": "stream",
          "text": [
            "COMPARISON OF MONTHLY CHARGES VS CHURNING PERCENTAGE\n",
            "Number of customers with a less monthly charge that churned out          :  514\n",
            "Number of customers with a less monthly charge that have not churned out :  2606\n",
            "Number of customers with a more monthly charge that churned out          :  1355\n",
            "Number of customers with a more monthly charge that have not churned out :  2568\n",
            "Percentage of customers with less charge who churned out        :  16.47\n",
            "Percentage of customers with less charge who didn't churned out :  83.53\n",
            "Percentage of customers with more charge who churned out        :  34.54\n",
            "Percentage of customers with more charge who didn't churned out :  65.46\n"
          ],
          "name": "stdout"
        }
      ]
    },
    {
      "cell_type": "code",
      "metadata": {
        "id": "dPZnZqhz_ahL",
        "outputId": "dac88f64-24e5-4c76-8253-5a9e60e29ed3",
        "colab": {
          "base_uri": "https://localhost:8080/",
          "height": 265
        }
      },
      "source": [
        "# Pie chart for CUSTOMERS WITH LESS MONTHLY CHARGE\n",
        "plt.title(\"THE CUSTOMERS WITH LESS MONTHLY CHARGE\")\n",
        "labels = 'Churned(16.47)','Did not Churn out(83.53)'\n",
        "sections = [514,2606]\n",
        "colors = ['c','g']\n",
        "plt.pie(sections, labels=labels, colors=colors)\n",
        "plt.show()"
      ],
      "execution_count": null,
      "outputs": [
        {
          "output_type": "display_data",
          "data": {
            "image/png": "[encoded data removed]",
            "text/plain": [
              "<Figure size 432x288 with 1 Axes>"
            ]
          },
          "metadata": {
            "tags": []
          }
        }
      ]
    },
    {
      "cell_type": "code",
      "metadata": {
        "id": "UT4f1EVBEz_s",
        "outputId": "45755580-3f49-4d9f-b23c-f9ab7e3cbb51",
        "colab": {
          "base_uri": "https://localhost:8080/",
          "height": 265
        }
      },
      "source": [
        "# Pie chart for CUSTOMERS WITH MORE MONTHLY CHARGE\n",
        "plt.title(\"THE CUSTOMERS WITH MORE MONTHLY CHARGE\")\n",
        "labels = 'Churned(34.54)','Did not Churn out(65.46)'\n",
        "sections = [1355,2568]\n",
        "colors = ['k','r']\n",
        "plt.pie(sections, labels=labels, colors=colors)\n",
        "plt.show()"
      ],
      "execution_count": null,
      "outputs": [
        {
          "output_type": "display_data",
          "data": {
            "image/png": "[encoded data removed]",
            "text/plain": [
              "<Figure size 432x288 with 1 Axes>"
            ]
          },
          "metadata": {
            "tags": []
          }
        }
      ]
    },
    {
      "cell_type": "markdown",
      "metadata": {
        "id": "YfY51Zf2TIcE"
      },
      "source": [
        "*It can be seen that customers with more monthly charge (with respect to average monthly charge which is 64.76/-) have a higher churning rate as compared to those with lower monthly charges.*"
      ]
    },
    {
      "cell_type": "markdown",
      "metadata": {
        "id": "laQrgmmFZzYY"
      },
      "source": [
        "***Tenure***"
      ]
    },
    {
      "cell_type": "code",
      "metadata": {
        "id": "KRmlfUB3U2vM",
        "outputId": "896f0cca-ebb7-4347-d998-e461671913db",
        "colab": {
          "base_uri": "https://localhost:8080/"
        }
      },
      "source": [
        "# Calculating the Maximun Tenure\n",
        "df['Tenure'].max()"
      ],
      "execution_count": null,
      "outputs": [
        {
          "output_type": "execute_result",
          "data": {
            "text/plain": [
              "72"
            ]
          },
          "metadata": {
            "tags": []
          },
          "execution_count": 28
        }
      ]
    },
    {
      "cell_type": "code",
      "metadata": {
        "id": "kH3C20pHZkFg",
        "outputId": "f91d06ba-7814-4567-eb98-31c76acdfd50",
        "colab": {
          "base_uri": "https://localhost:8080/"
        }
      },
      "source": [
        "# Calculating the Minimun Tenure\n",
        "df['Tenure'].min()"
      ],
      "execution_count": null,
      "outputs": [
        {
          "output_type": "execute_result",
          "data": {
            "text/plain": [
              "0"
            ]
          },
          "metadata": {
            "tags": []
          },
          "execution_count": 22
        }
      ]
    },
    {
      "cell_type": "code",
      "metadata": {
        "id": "-kEb4JlhWltX",
        "outputId": "ae83c425-31ea-4c5b-879e-f45590ffa6aa",
        "colab": {
          "base_uri": "https://localhost:8080/",
          "height": 303
        }
      },
      "source": [
        "# Density plot of TENURE DENSITY PLOT FOR CUSTOMERS WHO CHURNED\n",
        "ax=plt.subplots()\n",
        "ax=sns.violinplot(y='Tenure', data=df[df['Churn']=='Yes'])\n",
        "ax.set_xlabel('Number of Customers')\n",
        "ax.set_ylabel('Tenure')\n",
        "ax.set_title('TENURE DENSITY PLOT')\n",
        "\n"
      ],
      "execution_count": null,
      "outputs": [
        {
          "output_type": "execute_result",
          "data": {
            "text/plain": [
              "Text(0.5, 1.0, 'TENURE DENSITY PLOT')"
            ]
          },
          "metadata": {
            "tags": []
          },
          "execution_count": 65
        },
        {
          "output_type": "display_data",
          "data": {
            "image/png": "[encoded data removed]",
            "text/plain": [
              "<Figure size 432x288 with 1 Axes>"
            ]
          },
          "metadata": {
            "tags": [],
            "needs_background": "light"
          }
        }
      ]
    },
    {
      "cell_type": "code",
      "metadata": {
        "id": "b6dwcd25YRHM",
        "outputId": "8bb13c29-5f33-42c1-86a2-35266a6249ee",
        "colab": {
          "base_uri": "https://localhost:8080/",
          "height": 303
        }
      },
      "source": [
        "# Density plot of TENURE DENSITY PLOT FOR CUSTOMERS WHO DIDN'T CHURN\n",
        "ax=plt.subplots()\n",
        "sns.set_palette(\"Set3\")\n",
        "ax=sns.violinplot(y='Tenure', data=df[df['Churn']=='No'])\n",
        "ax.set_xlabel('Number of Customers')\n",
        "ax.set_ylabel('Tenure')\n",
        "ax.set_title('TENURE DENSITY PLOT')"
      ],
      "execution_count": null,
      "outputs": [
        {
          "output_type": "execute_result",
          "data": {
            "text/plain": [
              "Text(0.5, 1.0, 'TENURE DENSITY PLOT')"
            ]
          },
          "metadata": {
            "tags": []
          },
          "execution_count": 98
        },
        {
          "output_type": "display_data",
          "data": {
            "image/png": "[encoded data removed]",
            "text/plain": [
              "<Figure size 432x288 with 1 Axes>"
            ]
          },
          "metadata": {
            "tags": [],
            "needs_background": "light"
          }
        }
      ]
    },
    {
      "cell_type": "markdown",
      "metadata": {
        "id": "yNi2cpIgaEfA"
      },
      "source": [
        "*It is seen that the customers with less tenure have a higher churning rate.* "
      ]
    },
    {
      "cell_type": "markdown",
      "metadata": {
        "id": "jG8nQxyEkrb5"
      },
      "source": [
        "**DATA SCIENCE PROJECT BY:**\n"
      ]
    },
    {
      "cell_type": "markdown",
      "metadata": {
        "id": "6JhjgN9plDle"
      },
      "source": [
        "**-RENITA KURIAN**\n"
      ]
    },
    {
      "cell_type": "markdown",
      "metadata": {
        "id": "jWA84RCnlJNG"
      },
      "source": [
        "**-GIRESHI GUPTA**\n"
      ]
    },
    {
      "cell_type": "markdown",
      "metadata": {
        "id": "a2ui_a0alMZS"
      },
      "source": [
        "**-SADHANA PARAMESWARAN**"
      ]
    }
  ]
}